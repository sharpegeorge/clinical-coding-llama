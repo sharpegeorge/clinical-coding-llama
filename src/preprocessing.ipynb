{
 "cells": [
  {
   "cell_type": "code",
   "execution_count": 1,
   "id": "74231c6c-1408-415e-b056-0d7bdf6da10f",
   "metadata": {},
   "outputs": [],
   "source": [
    "import pandas as pd"
   ]
  },
  {
   "cell_type": "code",
   "execution_count": 2,
   "id": "4a39823c-aaca-4289-b948-b05e14d91c61",
   "metadata": {},
   "outputs": [],
   "source": [
    "# File locations here\n",
    "mimicNoteFile = './data/discharge.csv' # From MIMIC-Note\n",
    "mimicFile = './data/diagnoses_icd.csv' # From MIMIC 2.2\n",
    "mimicBHCFile = './data/mimic-iv-bhc.csv' # From MIMIC-Ext-BHC"
   ]
  },
  {
   "cell_type": "code",
   "execution_count": 3,
   "id": "950a3463-37bd-4bbe-b559-c8ee55c0308b",
   "metadata": {},
   "outputs": [],
   "source": [
    "# Getting note_id relation to subject_id and note_seq from mimic-iv 2.2 (regular)\n",
    "discharge = mimicNoteFile\n",
    "discharge_df = pd.read_csv(discharge)\n",
    "combining_df = discharge_df[['note_id', 'subject_id', 'hadm_id']]"
   ]
  },
  {
   "cell_type": "code",
   "execution_count": 4,
   "id": "7a58523c-8b88-4f48-af5b-b09bc366d321",
   "metadata": {},
   "outputs": [],
   "source": [
    "diagnoses_icd = mimicFile\n",
    "icd_df = pd.read_csv(diagnoses_icd)\n",
    "\n",
    "# Only keeping icd-10 codes, removing icd-9\n",
    "icd_df = icd_df.loc[icd_df['icd_version'] == 10]\n",
    "\n",
    "# Only keeping primary ICD code\n",
    "icd_df = icd_df.loc[(icd_df['seq_num'] == 1)]\n",
    "\n",
    "# Finding top 50 codes\n",
    "top50_codes = icd_df['icd_code'].value_counts().head(50)\n",
    "\n",
    "# Identifying hadm_id values where icd_code is in top_50\n",
    "hadm_ids_to_keep = icd_df.loc[icd_df['icd_code'].isin(top50_codes.index), 'hadm_id']\n",
    "\n",
    "# Filtering the dataset to keep only rows with those hadm_id values\n",
    "icd_df = icd_df[icd_df['hadm_id'].isin(hadm_ids_to_keep)]\n",
    "\n",
    "# Dropping seq_num and icd_version as now redundant\n",
    "icd_df = icd_df[icd_df['seq_num'] == 1].drop(columns=['seq_num', 'icd_version'])\n"
   ]
  },
  {
   "cell_type": "code",
   "execution_count": 5,
   "id": "6dfd6c54-bff1-431c-bc95-5485660678c2",
   "metadata": {},
   "outputs": [],
   "source": [
    "mimic = mimicBHCFile\n",
    "discharge_df = pd.read_csv(mimic)\n",
    "\n",
    "# Inner merge mimic-ext-bhc with mimic-note dataset to \n",
    "discharge_df = discharge_df.merge(combining_df, on='note_id', how='inner')\n",
    "\n",
    "# Keeping notes with top 50 codes\n",
    "discharge_df = discharge_df[discharge_df['hadm_id'].isin(hadm_ids_to_keep)]\n",
    "\n",
    "# Attaching icd codes to each note\n",
    "final_df = discharge_df.merge(icd_df, on=['hadm_id', 'subject_id'], how='inner')"
   ]
  },
  {
   "cell_type": "code",
   "execution_count": 9,
   "id": "4f927d7e-847c-4836-b71c-6a23d505a47b",
   "metadata": {},
   "outputs": [],
   "source": [
    "top50_codes.index.to_series().to_csv('./data/processed/top50.csv', index=False, header=False)"
   ]
  },
  {
   "cell_type": "code",
   "execution_count": 10,
   "id": "494a57a3-8fed-45e1-96a6-513f7973b53f",
   "metadata": {},
   "outputs": [],
   "source": [
    "# Removing underscores to prevent LLM from misinterpreting\n",
    "no_underscores_df = final_df.copy()\n",
    "no_underscores_df['target'] = no_underscores_df['target'].str.replace('_', '', regex=False)\n",
    "no_underscores_df.to_csv('./data/processed/data.csv', index=False)"
   ]
  }
 ],
 "metadata": {
  "kernelspec": {
   "display_name": "Python 3 (ipykernel)",
   "language": "python",
   "name": "python3"
  },
  "language_info": {
   "codemirror_mode": {
    "name": "ipython",
    "version": 3
   },
   "file_extension": ".py",
   "mimetype": "text/x-python",
   "name": "python",
   "nbconvert_exporter": "python",
   "pygments_lexer": "ipython3",
   "version": "3.12.4"
  }
 },
 "nbformat": 4,
 "nbformat_minor": 5
}
